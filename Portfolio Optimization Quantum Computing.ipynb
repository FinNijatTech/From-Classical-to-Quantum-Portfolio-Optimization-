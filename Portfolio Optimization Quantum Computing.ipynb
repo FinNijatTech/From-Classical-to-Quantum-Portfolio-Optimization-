{
 "cells": [
  {
   "cell_type": "code",
   "execution_count": 8,
   "id": "d2b960e0",
   "metadata": {},
   "outputs": [
    {
     "name": "stdout",
     "output_type": "stream",
     "text": [
      "Python version\n",
      "3.10.11 (tags/v3.10.11:7d4cc5a, Apr  5 2023, 00:38:17) [MSC v.1929 64 bit (AMD64)]\n"
     ]
    }
   ],
   "source": [
    "import sys\n",
    "print(\"Python version\")\n",
    "print(sys.version)"
   ]
  },
  {
   "cell_type": "code",
   "execution_count": 7,
   "id": "5552329d",
   "metadata": {},
   "outputs": [
    {
     "ename": "ModuleNotFoundError",
     "evalue": "No module named 'numpy'",
     "output_type": "error",
     "traceback": [
      "\u001b[1;31m---------------------------------------------------------------------------\u001b[0m",
      "\u001b[1;31mModuleNotFoundError\u001b[0m                       Traceback (most recent call last)",
      "Cell \u001b[1;32mIn[7], line 1\u001b[0m\n\u001b[1;32m----> 1\u001b[0m \u001b[38;5;28;01mimport\u001b[39;00m \u001b[38;5;21;01mnumpy\u001b[39;00m \u001b[38;5;28;01mas\u001b[39;00m \u001b[38;5;21;01mnp\u001b[39;00m\n\u001b[0;32m      2\u001b[0m \u001b[38;5;28;01mfrom\u001b[39;00m \u001b[38;5;21;01mqiskit\u001b[39;00m \u001b[38;5;28;01mimport\u001b[39;00m IBMQ, Aer\n\u001b[0;32m      3\u001b[0m \u001b[38;5;28;01mfrom\u001b[39;00m \u001b[38;5;21;01mqiskit\u001b[39;00m\u001b[38;5;21;01m.\u001b[39;00m\u001b[38;5;21;01moptimization\u001b[39;00m\u001b[38;5;21;01m.\u001b[39;00m\u001b[38;5;21;01mapplications\u001b[39;00m\u001b[38;5;21;01m.\u001b[39;00m\u001b[38;5;21;01mising\u001b[39;00m \u001b[38;5;28;01mimport\u001b[39;00m max_cut\n",
      "\u001b[1;31mModuleNotFoundError\u001b[0m: No module named 'numpy'"
     ]
    }
   ],
   "source": [
    "import numpy as np\n",
    "from qiskit import IBMQ, Aer\n",
    "from qiskit.optimization.applications.ising import max_cut\n",
    "from qiskit.optimization.applications.ising.common import sample_most_likely\n",
    "from qiskit.optimization.converters import IsingToQuadraticProgram\n",
    "from qiskit.optimization.problems import QuadraticProgram\n",
    "from qiskit.optimization.algorithms import MinimumEigenOptimizer\n",
    "\n",
    "# First, let's connect to IBM Quantum Experience\n",
    "IBMQ.load_account()\n",
    "provider = IBMQ.get_provider('ibm-q')\n",
    "backend = provider.get_backend('ibmq_16_melbourne')\n",
    "\n",
    "# Define the problem as a MaxCut problem\n",
    "w = np.array([[0, 1, 1, 0], [1, 0, 1, 1], [1, 1, 0, 1], [0, 1, 1, 0]])\n",
    "qubit_op, offset = max_cut.get_operator(w)\n",
    "\n",
    "# Convert the problem to a QuadraticProgram\n",
    "qp = QuadraticProgram()\n",
    "qp.from_ising(qubit_op, offset)\n",
    "\n",
    "# Convert the problem to a QUBO\n",
    "qubo_converter = IsingToQuadraticProgram()\n",
    "qubo = qubo_converter.encode(qp)\n",
    "\n",
    "# Solve the problem using the quantum annealing method on IBM Quantum Experience\n",
    "quantum_instance = MinimumEigenOptimizer.get_default_quantum_instance()\n",
    "quantum_instance.backend = backend\n",
    "algorithm = MinimumEigenOptimizer(min_eigen_solver=quantum_instance)\n",
    "result = algorithm.solve(qubo)\n",
    "\n",
    "# Print the result\n",
    "x = sample_most_likely(result.eigenstate)\n",
    "print('Solution:', x)\n",
    "print('Energy:', result.eigenvalue)\n"
   ]
  },
  {
   "cell_type": "code",
   "execution_count": null,
   "id": "a49be70c",
   "metadata": {},
   "outputs": [],
   "source": []
  }
 ],
 "metadata": {
  "kernelspec": {
   "display_name": "qiskit_venv",
   "language": "python",
   "name": "qiskit_venv"
  },
  "language_info": {
   "codemirror_mode": {
    "name": "ipython",
    "version": 3
   },
   "file_extension": ".py",
   "mimetype": "text/x-python",
   "name": "python",
   "nbconvert_exporter": "python",
   "pygments_lexer": "ipython3",
   "version": "3.10.11"
  }
 },
 "nbformat": 4,
 "nbformat_minor": 5
}
